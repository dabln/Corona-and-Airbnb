{
 "cells": [
  {
   "cell_type": "markdown",
   "metadata": {},
   "source": [
    "# Corona and Airbnb in Berlin\n",
    "## by Jan Henner\n",
    "\n",
    "# Table of Contents\n",
    "<ul>\n",
    "<li><a href=\"#intro\">Intro: Dataset & questions</a></li>\n",
    "<li><a href=\"#wrangling\">Data Wrangling</a></li>\n",
    "    <ul><li><a href=\"#gather\">Gather datasets</a></li></ul>\n",
    "    <ul><li><a href=\"#assess_and_clean\">Assess and clean</a></li></ul>\n",
    "<li><a href=\"#eda\">Analyze, Model, and Visualize</a></li>\n",
    "    <ul><li><a href=\"#impact_demand\">Corona impact on Airbnb demand</a></li></ul>\n",
    "    <ul><li><a href=\"#host_reaction\">Host Reaction</a></li></ul>\n",
    "    <ul><li><a href=\"#happy\">Happyness of Travelers</a></li></ul>\n",
    "<li><a href=\"#conclusions\">Conclusions</a></li>\n",
    "</ul>\n",
    "\n",
    "<a id='intro'></a>\n",
    "# Introduction\n",
    "\n",
    "## Dataset\n",
    "The data comes from the Murray Cox Inside Airbnb project [insideAirbnb.com](http://insideAirbnb.com/). The \"summary information and metrics\" files are used, and additionally the \"Detailed Review Data\" for the sentiment analysis. The dates used are 08.06.2019 and 13.06.2020.\n",
    "\n",
    "\n",
    "## Business Questions\n",
    "How did the Coronavirus affect Airbnb's demand and supply in Berlin?\n",
    "\n",
    "1. What is the Corona impact on Airbnb's demand in Berlin? (identified by days since last review)\n",
    "2. How do the hosts react to the Corona virus? (identified by number of offers, price, and cancellation policy)\n",
    "3. For those who travel in Corona times: how happy are they with the stay? (sentiment analysis on reviews)"
   ]
  },
  {
   "cell_type": "markdown",
   "metadata": {},
   "source": [
    "<a id='wrangling'></a>\n",
    "\n",
    "# Data Wrangling\n",
    "\n",
    "<a id='gather'></a>\n",
    "## Gather Data"
   ]
  },
  {
   "cell_type": "code",
   "execution_count": 1,
   "metadata": {},
   "outputs": [
    {
     "name": "stderr",
     "output_type": "stream",
     "text": [
      "[nltk_data] Downloading package vader_lexicon to\n",
      "[nltk_data]     /Users/jh/nltk_data...\n",
      "[nltk_data]   Package vader_lexicon is already up-to-date!\n"
     ]
    }
   ],
   "source": [
    "# import all packages and set plots to be embedded inline\n",
    "import numpy as np\n",
    "import pandas as pd\n",
    "import matplotlib.pyplot as plt\n",
    "import seaborn as sb\n",
    "import warnings\n",
    "\n",
    "import datetime\n",
    "import nltk\n",
    "nltk.download('vader_lexicon')\n",
    "from nltk.sentiment.vader import SentimentIntensityAnalyzer\n",
    "import matplotlib.patches as mpatches\n",
    "\n",
    "%matplotlib inline\n",
    "plt.style.use('ggplot')"
   ]
  },
  {
   "cell_type": "code",
   "execution_count": 2,
   "metadata": {},
   "outputs": [],
   "source": [
    "# load in the dataset into pandas dataframes, vertically concatenate\n",
    "# suppress mixed dtypes warning relating to irrelevant columns; inspired by https://stackoverflow.com/questions/54768539/suppress-a-python-warning\n",
    "with warnings.catch_warnings():\n",
    "    warnings.simplefilter('ignore')\n",
    "    ab19 = pd.read_csv('./data_inside_airbnb/Berlin_AirBnB_listings_20190608.csv')\n",
    "    ab20 = pd.read_csv('./data_inside_airbnb/Berlin_AirBnB_listings_20200613.csv')\n",
    "ab = pd.concat([ab19, ab20], axis = 0)\n",
    "ab19_rev = pd.read_csv('./data_inside_airbnb/Berlin_AirBnB_reviews_20190608.csv')\n",
    "ab20_rev = pd.read_csv('./data_inside_airbnb/Berlin_AirBnB_reviews_20200613.csv')"
   ]
  },
  {
   "cell_type": "code",
   "execution_count": 3,
   "metadata": {},
   "outputs": [
    {
     "data": {
      "text/plain": [
       "((23808, 106), (24813, 106), (48621, 106), (467550, 6), (516939, 6))"
      ]
     },
     "execution_count": 3,
     "metadata": {},
     "output_type": "execute_result"
    }
   ],
   "source": [
    "# did it work? number of rows and columns\n",
    "ab19.shape, ab20.shape, ab.shape, ab19_rev.shape, ab20_rev.shape"
   ]
  },
  {
   "cell_type": "markdown",
   "metadata": {},
   "source": [
    "<a id='assess_and_clean'></a>\n",
    "## Assess and Clean"
   ]
  },
  {
   "cell_type": "code",
   "execution_count": 4,
   "metadata": {},
   "outputs": [
    {
     "data": {
      "text/html": [
       "<div>\n",
       "<style scoped>\n",
       "    .dataframe tbody tr th:only-of-type {\n",
       "        vertical-align: middle;\n",
       "    }\n",
       "\n",
       "    .dataframe tbody tr th {\n",
       "        vertical-align: top;\n",
       "    }\n",
       "\n",
       "    .dataframe thead th {\n",
       "        text-align: right;\n",
       "    }\n",
       "</style>\n",
       "<table border=\"1\" class=\"dataframe\">\n",
       "  <thead>\n",
       "    <tr style=\"text-align: right;\">\n",
       "      <th></th>\n",
       "      <th>id</th>\n",
       "      <th>listing_url</th>\n",
       "      <th>scrape_id</th>\n",
       "      <th>last_scraped</th>\n",
       "      <th>name</th>\n",
       "      <th>summary</th>\n",
       "      <th>space</th>\n",
       "      <th>description</th>\n",
       "      <th>experiences_offered</th>\n",
       "      <th>neighborhood_overview</th>\n",
       "      <th>...</th>\n",
       "      <th>instant_bookable</th>\n",
       "      <th>is_business_travel_ready</th>\n",
       "      <th>cancellation_policy</th>\n",
       "      <th>require_guest_profile_picture</th>\n",
       "      <th>require_guest_phone_verification</th>\n",
       "      <th>calculated_host_listings_count</th>\n",
       "      <th>calculated_host_listings_count_entire_homes</th>\n",
       "      <th>calculated_host_listings_count_private_rooms</th>\n",
       "      <th>calculated_host_listings_count_shared_rooms</th>\n",
       "      <th>reviews_per_month</th>\n",
       "    </tr>\n",
       "  </thead>\n",
       "  <tbody>\n",
       "    <tr>\n",
       "      <th>0</th>\n",
       "      <td>1944</td>\n",
       "      <td>https://www.airbnb.com/rooms/1944</td>\n",
       "      <td>20190608131840</td>\n",
       "      <td>2019-06-09</td>\n",
       "      <td>cafeheaven Pberg/Mitte/Wed for the summer 2019</td>\n",
       "      <td>Private, bright and friendly room. You'd be sh...</td>\n",
       "      <td>The room is very large, private, cozy, bright,...</td>\n",
       "      <td>Private, bright and friendly room. You'd be sh...</td>\n",
       "      <td>none</td>\n",
       "      <td>near all the trendy cafés and flea markets and...</td>\n",
       "      <td>...</td>\n",
       "      <td>t</td>\n",
       "      <td>f</td>\n",
       "      <td>moderate</td>\n",
       "      <td>f</td>\n",
       "      <td>f</td>\n",
       "      <td>1</td>\n",
       "      <td>0</td>\n",
       "      <td>1</td>\n",
       "      <td>0</td>\n",
       "      <td>0.26</td>\n",
       "    </tr>\n",
       "  </tbody>\n",
       "</table>\n",
       "<p>1 rows × 106 columns</p>\n",
       "</div>"
      ],
      "text/plain": [
       "     id                        listing_url       scrape_id last_scraped  \\\n",
       "0  1944  https://www.airbnb.com/rooms/1944  20190608131840   2019-06-09   \n",
       "\n",
       "                                             name  \\\n",
       "0  cafeheaven Pberg/Mitte/Wed for the summer 2019   \n",
       "\n",
       "                                             summary  \\\n",
       "0  Private, bright and friendly room. You'd be sh...   \n",
       "\n",
       "                                               space  \\\n",
       "0  The room is very large, private, cozy, bright,...   \n",
       "\n",
       "                                         description experiences_offered  \\\n",
       "0  Private, bright and friendly room. You'd be sh...                none   \n",
       "\n",
       "                               neighborhood_overview  ... instant_bookable  \\\n",
       "0  near all the trendy cafés and flea markets and...  ...                t   \n",
       "\n",
       "  is_business_travel_ready cancellation_policy require_guest_profile_picture  \\\n",
       "0                        f            moderate                             f   \n",
       "\n",
       "  require_guest_phone_verification  calculated_host_listings_count  \\\n",
       "0                                f                               1   \n",
       "\n",
       "   calculated_host_listings_count_entire_homes  \\\n",
       "0                                            0   \n",
       "\n",
       "  calculated_host_listings_count_private_rooms  \\\n",
       "0                                            1   \n",
       "\n",
       "   calculated_host_listings_count_shared_rooms  reviews_per_month  \n",
       "0                                            0               0.26  \n",
       "\n",
       "[1 rows x 106 columns]"
      ]
     },
     "execution_count": 4,
     "metadata": {},
     "output_type": "execute_result"
    }
   ],
   "source": [
    "ab.head(1)"
   ]
  },
  {
   "cell_type": "code",
   "execution_count": 5,
   "metadata": {},
   "outputs": [
    {
     "data": {
      "text/html": [
       "<div>\n",
       "<style scoped>\n",
       "    .dataframe tbody tr th:only-of-type {\n",
       "        vertical-align: middle;\n",
       "    }\n",
       "\n",
       "    .dataframe tbody tr th {\n",
       "        vertical-align: top;\n",
       "    }\n",
       "\n",
       "    .dataframe thead th {\n",
       "        text-align: right;\n",
       "    }\n",
       "</style>\n",
       "<table border=\"1\" class=\"dataframe\">\n",
       "  <thead>\n",
       "    <tr style=\"text-align: right;\">\n",
       "      <th></th>\n",
       "      <th>id</th>\n",
       "      <th>listing_url</th>\n",
       "      <th>scrape_id</th>\n",
       "      <th>last_scraped</th>\n",
       "      <th>name</th>\n",
       "      <th>summary</th>\n",
       "      <th>space</th>\n",
       "      <th>description</th>\n",
       "      <th>experiences_offered</th>\n",
       "      <th>neighborhood_overview</th>\n",
       "      <th>...</th>\n",
       "      <th>instant_bookable</th>\n",
       "      <th>is_business_travel_ready</th>\n",
       "      <th>cancellation_policy</th>\n",
       "      <th>require_guest_profile_picture</th>\n",
       "      <th>require_guest_phone_verification</th>\n",
       "      <th>calculated_host_listings_count</th>\n",
       "      <th>calculated_host_listings_count_entire_homes</th>\n",
       "      <th>calculated_host_listings_count_private_rooms</th>\n",
       "      <th>calculated_host_listings_count_shared_rooms</th>\n",
       "      <th>reviews_per_month</th>\n",
       "    </tr>\n",
       "  </thead>\n",
       "  <tbody>\n",
       "    <tr>\n",
       "      <th>24812</th>\n",
       "      <td>43764870</td>\n",
       "      <td>https://www.airbnb.com/rooms/43764870</td>\n",
       "      <td>20200613063607</td>\n",
       "      <td>2020-06-15</td>\n",
       "      <td>Practical &amp; Cozy Studio</td>\n",
       "      <td>Very cozy and practical Studio Flat in Berlin-...</td>\n",
       "      <td>This is our home and we want it to be respecte...</td>\n",
       "      <td>Very cozy and practical Studio Flat in Berlin-...</td>\n",
       "      <td>none</td>\n",
       "      <td>Our building was built over 150 years ago and ...</td>\n",
       "      <td>...</td>\n",
       "      <td>f</td>\n",
       "      <td>f</td>\n",
       "      <td>moderate</td>\n",
       "      <td>f</td>\n",
       "      <td>f</td>\n",
       "      <td>1</td>\n",
       "      <td>1</td>\n",
       "      <td>0</td>\n",
       "      <td>0</td>\n",
       "      <td>NaN</td>\n",
       "    </tr>\n",
       "  </tbody>\n",
       "</table>\n",
       "<p>1 rows × 106 columns</p>\n",
       "</div>"
      ],
      "text/plain": [
       "             id                            listing_url       scrape_id  \\\n",
       "24812  43764870  https://www.airbnb.com/rooms/43764870  20200613063607   \n",
       "\n",
       "      last_scraped                     name  \\\n",
       "24812   2020-06-15  Practical & Cozy Studio   \n",
       "\n",
       "                                                 summary  \\\n",
       "24812  Very cozy and practical Studio Flat in Berlin-...   \n",
       "\n",
       "                                                   space  \\\n",
       "24812  This is our home and we want it to be respecte...   \n",
       "\n",
       "                                             description experiences_offered  \\\n",
       "24812  Very cozy and practical Studio Flat in Berlin-...                none   \n",
       "\n",
       "                                   neighborhood_overview  ...  \\\n",
       "24812  Our building was built over 150 years ago and ...  ...   \n",
       "\n",
       "      instant_bookable is_business_travel_ready cancellation_policy  \\\n",
       "24812                f                        f            moderate   \n",
       "\n",
       "      require_guest_profile_picture require_guest_phone_verification  \\\n",
       "24812                             f                                f   \n",
       "\n",
       "       calculated_host_listings_count  \\\n",
       "24812                               1   \n",
       "\n",
       "       calculated_host_listings_count_entire_homes  \\\n",
       "24812                                            1   \n",
       "\n",
       "      calculated_host_listings_count_private_rooms  \\\n",
       "24812                                            0   \n",
       "\n",
       "       calculated_host_listings_count_shared_rooms  reviews_per_month  \n",
       "24812                                            0                NaN  \n",
       "\n",
       "[1 rows x 106 columns]"
      ]
     },
     "execution_count": 5,
     "metadata": {},
     "output_type": "execute_result"
    }
   ],
   "source": [
    "ab.tail(1)"
   ]
  },
  {
   "cell_type": "code",
   "execution_count": 6,
   "metadata": {},
   "outputs": [],
   "source": [
    "# check available columns\n",
    "#ab.columns[0:50]\n",
    "#ab.columns[50:106]"
   ]
  },
  {
   "cell_type": "markdown",
   "metadata": {},
   "source": [
    "### reduce to columns of interest"
   ]
  },
  {
   "cell_type": "code",
   "execution_count": 7,
   "metadata": {},
   "outputs": [
    {
     "data": {
      "text/plain": [
       "t    48621\n",
       "Name: has_availability, dtype: int64"
      ]
     },
     "execution_count": 7,
     "metadata": {},
     "output_type": "execute_result"
    }
   ],
   "source": [
    "# do not include has_availability as there is no variation in the data\n",
    "ab.has_availability.value_counts()"
   ]
  },
  {
   "cell_type": "markdown",
   "metadata": {},
   "source": [
    "#### Define\n",
    "Keep only the columns id', 'host_id', 'host_neighbourhood', 'neighbourhood_group_cleansed', 'last_review', 'price', 'cancellation_policy'.\n",
    "\n",
    "#### Code"
   ]
  },
  {
   "cell_type": "code",
   "execution_count": 8,
   "metadata": {},
   "outputs": [],
   "source": [
    "# clean a copy of the dataset\n",
    "ab_clean = ab.copy()\n",
    "ab_clean = ab_clean[['id', 'host_id', 'host_neighbourhood', 'neighbourhood_group_cleansed',\n",
    "                     'last_review', 'price', 'cleaning_fee', 'cancellation_policy',\n",
    "                    'host_since', 'last_scraped']]"
   ]
  },
  {
   "cell_type": "markdown",
   "metadata": {},
   "source": [
    "#### Test"
   ]
  },
  {
   "cell_type": "code",
   "execution_count": 9,
   "metadata": {},
   "outputs": [
    {
     "name": "stdout",
     "output_type": "stream",
     "text": [
      "change in rows is 0 and reduction in columns is 96\n"
     ]
    }
   ],
   "source": [
    "print('change in rows is', ab.shape[0] - ab_clean.shape[0], 'and reduction in columns is', \n",
    "      ab.shape[1] - ab_clean.shape[1])"
   ]
  },
  {
   "cell_type": "markdown",
   "metadata": {},
   "source": [
    "### Data types"
   ]
  },
  {
   "cell_type": "code",
   "execution_count": 10,
   "metadata": {},
   "outputs": [
    {
     "name": "stdout",
     "output_type": "stream",
     "text": [
      "<class 'pandas.core.frame.DataFrame'>\n",
      "Int64Index: 48621 entries, 0 to 24812\n",
      "Data columns (total 10 columns):\n",
      "id                              48621 non-null int64\n",
      "host_id                         48621 non-null int64\n",
      "host_neighbourhood              37396 non-null object\n",
      "neighbourhood_group_cleansed    48621 non-null object\n",
      "last_review                     39718 non-null object\n",
      "price                           48621 non-null object\n",
      "cleaning_fee                    34053 non-null object\n",
      "cancellation_policy             48621 non-null object\n",
      "host_since                      48530 non-null object\n",
      "last_scraped                    48621 non-null object\n",
      "dtypes: int64(2), object(8)\n",
      "memory usage: 4.1+ MB\n"
     ]
    }
   ],
   "source": [
    "ab_clean.info()"
   ]
  },
  {
   "cell_type": "markdown",
   "metadata": {},
   "source": [
    "### convert price to float"
   ]
  },
  {
   "cell_type": "code",
   "execution_count": 11,
   "metadata": {},
   "outputs": [
    {
     "data": {
      "text/plain": [
       "0    $21.00\n",
       "Name: price, dtype: object"
      ]
     },
     "execution_count": 11,
     "metadata": {},
     "output_type": "execute_result"
    }
   ],
   "source": [
    "ab_clean.price.head(1)"
   ]
  },
  {
   "cell_type": "markdown",
   "metadata": {},
   "source": [
    "__define__: get rid of ',' and '$' in the strings and convert to a numeric value"
   ]
  },
  {
   "cell_type": "code",
   "execution_count": 12,
   "metadata": {},
   "outputs": [
    {
     "data": {
      "text/plain": [
       "dtype('float64')"
      ]
     },
     "execution_count": 12,
     "metadata": {},
     "output_type": "execute_result"
    }
   ],
   "source": [
    "# code:\n",
    "ab_clean['price'] = ab_clean.price.str.replace(',', '').str.replace('$', '').astype(float)\n",
    "# test:\n",
    "ab_clean['price'].dtype"
   ]
  },
  {
   "cell_type": "markdown",
   "metadata": {},
   "source": [
    "### convert cleaning_fee to float"
   ]
  },
  {
   "cell_type": "code",
   "execution_count": 13,
   "metadata": {},
   "outputs": [
    {
     "data": {
      "text/plain": [
       "0    $0.00\n",
       "Name: cleaning_fee, dtype: object"
      ]
     },
     "execution_count": 13,
     "metadata": {},
     "output_type": "execute_result"
    }
   ],
   "source": [
    "ab_clean.cleaning_fee.head(1)"
   ]
  },
  {
   "cell_type": "markdown",
   "metadata": {},
   "source": [
    "__define__: get rid of ',' and '$' in the strings and convert to a numeric value"
   ]
  },
  {
   "cell_type": "code",
   "execution_count": 14,
   "metadata": {},
   "outputs": [
    {
     "data": {
      "text/plain": [
       "dtype('float64')"
      ]
     },
     "execution_count": 14,
     "metadata": {},
     "output_type": "execute_result"
    }
   ],
   "source": [
    "# code:\n",
    "ab_clean['cleaning_fee'] = ab_clean.cleaning_fee.str.replace(',', ''). \\\n",
    "                            str.replace('$', '').astype(float)\n",
    "# test:\n",
    "ab_clean['cleaning_fee'].dtype"
   ]
  },
  {
   "cell_type": "markdown",
   "metadata": {},
   "source": [
    "### defining the price\n",
    "__define__:\n",
    "To better grasp the cost for an Airbnb guest we define the price as including cleaning fees. The original price variable has no missing values. However, the cleaning fees have missing values.\n",
    "\n",
    "Handling of missing values: take care that the original price info remains by filling cleaning fees NaN with 0."
   ]
  },
  {
   "cell_type": "code",
   "execution_count": 15,
   "metadata": {},
   "outputs": [
    {
     "name": "stdout",
     "output_type": "stream",
     "text": [
      "losing 0 columns\n"
     ]
    }
   ],
   "source": [
    "# code\n",
    "ab_clean['price'] = ab_clean.price +  ab_clean.cleaning_fee.fillna(value = 0)\n",
    "# test:\n",
    "print('losing', ab.price.notna().sum() - ab_clean.price.notna().sum(), 'columns')"
   ]
  },
  {
   "cell_type": "markdown",
   "metadata": {},
   "source": [
    "### Visual look in the data\n",
    "Do we see something unexpected, something which looks wrong?"
   ]
  },
  {
   "cell_type": "code",
   "execution_count": 16,
   "metadata": {},
   "outputs": [
    {
     "data": {
      "text/plain": [
       "numpy.ndarray"
      ]
     },
     "execution_count": 16,
     "metadata": {},
     "output_type": "execute_result"
    },
    {
     "data": {
      "image/png": "[encoded data removed]",
      "text/plain": [
       "<Figure size 576x288 with 4 Axes>"
      ]
     },
     "metadata": {
      "needs_background": "light"
     },
     "output_type": "display_data"
    }
   ],
   "source": [
    "# first look into the data\n",
    "type(ab_clean.hist(figsize=(8,4)))"
   ]
  },
  {
   "cell_type": "code",
   "execution_count": 17,
   "metadata": {},
   "outputs": [
    {
     "data": {
      "text/html": [
       "<div>\n",
       "<style scoped>\n",
       "    .dataframe tbody tr th:only-of-type {\n",
       "        vertical-align: middle;\n",
       "    }\n",
       "\n",
       "    .dataframe tbody tr th {\n",
       "        vertical-align: top;\n",
       "    }\n",
       "\n",
       "    .dataframe thead th {\n",
       "        text-align: right;\n",
       "    }\n",
       "</style>\n",
       "<table border=\"1\" class=\"dataframe\">\n",
       "  <thead>\n",
       "    <tr style=\"text-align: right;\">\n",
       "      <th></th>\n",
       "      <th>id</th>\n",
       "      <th>host_id</th>\n",
       "      <th>price</th>\n",
       "      <th>cleaning_fee</th>\n",
       "    </tr>\n",
       "  </thead>\n",
       "  <tbody>\n",
       "    <tr>\n",
       "      <th>count</th>\n",
       "      <td>4.862100e+04</td>\n",
       "      <td>4.862100e+04</td>\n",
       "      <td>48621.000000</td>\n",
       "      <td>34053.000000</td>\n",
       "    </tr>\n",
       "    <tr>\n",
       "      <th>mean</th>\n",
       "      <td>2.017842e+07</td>\n",
       "      <td>7.085350e+07</td>\n",
       "      <td>91.832192</td>\n",
       "      <td>27.857869</td>\n",
       "    </tr>\n",
       "    <tr>\n",
       "      <th>std</th>\n",
       "      <td>1.171403e+07</td>\n",
       "      <td>8.055496e+07</td>\n",
       "      <td>229.266883</td>\n",
       "      <td>31.446221</td>\n",
       "    </tr>\n",
       "    <tr>\n",
       "      <th>min</th>\n",
       "      <td>1.944000e+03</td>\n",
       "      <td>1.581000e+03</td>\n",
       "      <td>0.000000</td>\n",
       "      <td>0.000000</td>\n",
       "    </tr>\n",
       "    <tr>\n",
       "      <th>25%</th>\n",
       "      <td>9.987404e+06</td>\n",
       "      <td>1.048923e+07</td>\n",
       "      <td>40.000000</td>\n",
       "      <td>10.000000</td>\n",
       "    </tr>\n",
       "    <tr>\n",
       "      <th>50%</th>\n",
       "      <td>2.023167e+07</td>\n",
       "      <td>3.739402e+07</td>\n",
       "      <td>65.000000</td>\n",
       "      <td>20.000000</td>\n",
       "    </tr>\n",
       "    <tr>\n",
       "      <th>75%</th>\n",
       "      <td>2.957905e+07</td>\n",
       "      <td>1.072654e+08</td>\n",
       "      <td>104.000000</td>\n",
       "      <td>40.000000</td>\n",
       "    </tr>\n",
       "    <tr>\n",
       "      <th>max</th>\n",
       "      <td>4.376487e+07</td>\n",
       "      <td>3.496313e+08</td>\n",
       "      <td>11000.000000</td>\n",
       "      <td>2000.000000</td>\n",
       "    </tr>\n",
       "  </tbody>\n",
       "</table>\n",
       "</div>"
      ],
      "text/plain": [
       "                 id       host_id         price  cleaning_fee\n",
       "count  4.862100e+04  4.862100e+04  48621.000000  34053.000000\n",
       "mean   2.017842e+07  7.085350e+07     91.832192     27.857869\n",
       "std    1.171403e+07  8.055496e+07    229.266883     31.446221\n",
       "min    1.944000e+03  1.581000e+03      0.000000      0.000000\n",
       "25%    9.987404e+06  1.048923e+07     40.000000     10.000000\n",
       "50%    2.023167e+07  3.739402e+07     65.000000     20.000000\n",
       "75%    2.957905e+07  1.072654e+08    104.000000     40.000000\n",
       "max    4.376487e+07  3.496313e+08  11000.000000   2000.000000"
      ]
     },
     "execution_count": 17,
     "metadata": {},
     "output_type": "execute_result"
    }
   ],
   "source": [
    "ab_clean.describe()\n",
    "# price and cleaning fee quite right skewed, irrelevant statistics for host_id and id"
   ]
  },
  {
   "cell_type": "code",
   "execution_count": 18,
   "metadata": {},
   "outputs": [
    {
     "data": {
      "image/png": "[encoded data removed]",
      "text/plain": [
       "<Figure size 432x288 with 2 Axes>"
      ]
     },
     "metadata": {
      "needs_background": "light"
     },
     "output_type": "display_data"
    }
   ],
   "source": [
    "sb.heatmap(ab_clean.corr(), annot = True, fmt = '.2f');\n",
    "# price and cleaning fee have some correlation\n",
    "# and with id and host_id as expected around 0 correlation"
   ]
  },
  {
   "cell_type": "markdown",
   "metadata": {},
   "source": [
    "### identify duplicates"
   ]
  },
  {
   "cell_type": "code",
   "execution_count": 19,
   "metadata": {},
   "outputs": [
    {
     "data": {
      "text/html": [
       "<div>\n",
       "<style scoped>\n",
       "    .dataframe tbody tr th:only-of-type {\n",
       "        vertical-align: middle;\n",
       "    }\n",
       "\n",
       "    .dataframe tbody tr th {\n",
       "        vertical-align: top;\n",
       "    }\n",
       "\n",
       "    .dataframe thead th {\n",
       "        text-align: right;\n",
       "    }\n",
       "</style>\n",
       "<table border=\"1\" class=\"dataframe\">\n",
       "  <thead>\n",
       "    <tr style=\"text-align: right;\">\n",
       "      <th></th>\n",
       "      <th>listing_id</th>\n",
       "      <th>id</th>\n",
       "      <th>date</th>\n",
       "      <th>reviewer_id</th>\n",
       "      <th>reviewer_name</th>\n",
       "      <th>comments</th>\n",
       "    </tr>\n",
       "  </thead>\n",
       "  <tbody>\n",
       "    <tr>\n",
       "      <th>0</th>\n",
       "      <td>1944</td>\n",
       "      <td>7126992</td>\n",
       "      <td>2013-09-07</td>\n",
       "      <td>8207524</td>\n",
       "      <td>Mirko</td>\n",
       "      <td>I want to thank Laura&amp;Emiliano for their hospi...</td>\n",
       "    </tr>\n",
       "    <tr>\n",
       "      <th>1</th>\n",
       "      <td>1944</td>\n",
       "      <td>7428447</td>\n",
       "      <td>2013-09-19</td>\n",
       "      <td>3021574</td>\n",
       "      <td>Rafiee</td>\n",
       "      <td>Very convenient  and very quiet. You will stay...</td>\n",
       "    </tr>\n",
       "  </tbody>\n",
       "</table>\n",
       "</div>"
      ],
      "text/plain": [
       "   listing_id       id        date  reviewer_id reviewer_name  \\\n",
       "0        1944  7126992  2013-09-07      8207524         Mirko   \n",
       "1        1944  7428447  2013-09-19      3021574        Rafiee   \n",
       "\n",
       "                                            comments  \n",
       "0  I want to thank Laura&Emiliano for their hospi...  \n",
       "1  Very convenient  and very quiet. You will stay...  "
      ]
     },
     "execution_count": 19,
     "metadata": {},
     "output_type": "execute_result"
    }
   ],
   "source": [
    "ab19_rev.head(2)"
   ]
  },
  {
   "cell_type": "code",
   "execution_count": 20,
   "metadata": {},
   "outputs": [
    {
     "name": "stdout",
     "output_type": "stream",
     "text": [
      "for 2019 scraped reviews: \n",
      "\n",
      "column listing_id is unique?:  False\n",
      "column id is unique?:  True\n",
      "\n",
      " for 2020 scraped reviews: \n",
      "\n",
      "column listing_id is unique?:  False\n",
      "column id is unique?:  True\n"
     ]
    }
   ],
   "source": [
    "print('for 2019 scraped reviews: \\n')\n",
    "print('column listing_id is unique?: ', ab19_rev.listing_id.duplicated().sum() == 0)\n",
    "print('column id is unique?: ', ab19_rev.id.duplicated().sum() == 0)\n",
    "\n",
    "print('\\n for 2020 scraped reviews: \\n')\n",
    "print('column listing_id is unique?: ', ab20_rev.listing_id.duplicated().sum() == 0)\n",
    "print('column id is unique?: ', ab20_rev.id.duplicated().sum() == 0)"
   ]
  },
  {
   "cell_type": "markdown",
   "metadata": {},
   "source": [
    "__define__: set the 'id' column as index as it is numeric and has no duplicates"
   ]
  },
  {
   "cell_type": "code",
   "execution_count": 21,
   "metadata": {},
   "outputs": [
    {
     "data": {
      "text/html": [
       "<div>\n",
       "<style scoped>\n",
       "    .dataframe tbody tr th:only-of-type {\n",
       "        vertical-align: middle;\n",
       "    }\n",
       "\n",
       "    .dataframe tbody tr th {\n",
       "        vertical-align: top;\n",
       "    }\n",
       "\n",
       "    .dataframe thead th {\n",
       "        text-align: right;\n",
       "    }\n",
       "</style>\n",
       "<table border=\"1\" class=\"dataframe\">\n",
       "  <thead>\n",
       "    <tr style=\"text-align: right;\">\n",
       "      <th></th>\n",
       "      <th>listing_id</th>\n",
       "      <th>date</th>\n",
       "      <th>reviewer_id</th>\n",
       "      <th>reviewer_name</th>\n",
       "      <th>comments</th>\n",
       "    </tr>\n",
       "    <tr>\n",
       "      <th>id</th>\n",
       "      <th></th>\n",
       "      <th></th>\n",
       "      <th></th>\n",
       "      <th></th>\n",
       "      <th></th>\n",
       "    </tr>\n",
       "  </thead>\n",
       "  <tbody>\n",
       "    <tr>\n",
       "      <th>7126992</th>\n",
       "      <td>1944</td>\n",
       "      <td>2013-09-07</td>\n",
       "      <td>8207524</td>\n",
       "      <td>Mirko</td>\n",
       "      <td>I want to thank Laura&amp;Emiliano for their hospi...</td>\n",
       "    </tr>\n",
       "  </tbody>\n",
       "</table>\n",
       "</div>"
      ],
      "text/plain": [
       "         listing_id        date  reviewer_id reviewer_name  \\\n",
       "id                                                           \n",
       "7126992        1944  2013-09-07      8207524         Mirko   \n",
       "\n",
       "                                                  comments  \n",
       "id                                                          \n",
       "7126992  I want to thank Laura&Emiliano for their hospi...  "
      ]
     },
     "execution_count": 21,
     "metadata": {},
     "output_type": "execute_result"
    }
   ],
   "source": [
    "# Code:\n",
    "ab19_rev = ab19_rev.set_index('id')\n",
    "ab20_rev = ab20_rev.set_index('id')\n",
    "# Test:\n",
    "ab19_rev.head(1)"
   ]
  },
  {
   "cell_type": "markdown",
   "metadata": {},
   "source": [
    "### Missing values\n",
    "Looking at all columns of interest."
   ]
  },
  {
   "cell_type": "code",
   "execution_count": 22,
   "metadata": {},
   "outputs": [
    {
     "name": "stdout",
     "output_type": "stream",
     "text": [
      "<class 'pandas.core.frame.DataFrame'>\n",
      "Int64Index: 48621 entries, 0 to 24812\n",
      "Data columns (total 10 columns):\n",
      "id                              48621 non-null int64\n",
      "host_id                         48621 non-null int64\n",
      "host_neighbourhood              37396 non-null object\n",
      "neighbourhood_group_cleansed    48621 non-null object\n",
      "last_review                     39718 non-null object\n",
      "price                           48621 non-null float64\n",
      "cleaning_fee                    34053 non-null float64\n",
      "cancellation_policy             48621 non-null object\n",
      "host_since                      48530 non-null object\n",
      "last_scraped                    48621 non-null object\n",
      "dtypes: float64(2), int64(2), object(6)\n",
      "memory usage: 4.1+ MB\n"
     ]
    }
   ],
   "source": [
    "ab_clean.info()"
   ]
  },
  {
   "cell_type": "markdown",
   "metadata": {},
   "source": [
    "#### missings in last review\n",
    "##### Define:\n",
    "There are missing values in 'last_review': offers without reviews are reasonable. Let's gain some confidence: I expect newer offers to have more missing reviews.\n",
    "\n",
    "I cannot identify a column with \"AirBnb offer since\" information, hence using as proxy 'host_since'. It's not optimal because a host can have multiple offers.\n",
    "\n",
    "##### Code:"
   ]
  },
  {
   "cell_type": "code",
   "execution_count": 23,
   "metadata": {},
   "outputs": [
    {
     "name": "stdout",
     "output_type": "stream",
     "text": [
      "mean host_since year for offers with review: \n",
      " 2014.904563792234\n",
      "mean host_since year for offers without review: \n",
      " 2015.4599774520857\n"
     ]
    }
   ],
   "source": [
    "df1 = pd.concat([ab_clean.last_review.str[0:4], ab_clean.host_since.str[0:4]], axis = 1)\n",
    "print('mean host_since year for offers with review: \\n',  \n",
    "      df1[~df1.last_review.isna()].host_since.astype(float).mean())\n",
    "print('mean host_since year for offers without review: \\n',  \n",
    "      df1[df1.last_review.isna()].host_since.astype(float).mean())"
   ]
  },
  {
   "cell_type": "markdown",
   "metadata": {},
   "source": [
    "##### Evaluate:\n",
    "Yes, missing reviews and newer host_since go hand in hand.\n",
    "\n",
    "We find no evidence that missing reviews have and explanation different to no review yet."
   ]
  },
  {
   "cell_type": "markdown",
   "metadata": {},
   "source": [
    "### Neighbourhood\n",
    "define: due to missings in 'host_neighbourhood' we use only the column 'neighbourhood_group_cleansed'."
   ]
  },
  {
   "cell_type": "code",
   "execution_count": 24,
   "metadata": {},
   "outputs": [
    {
     "name": "stdout",
     "output_type": "stream",
     "text": [
      "down 1 column as expected\n"
     ]
    }
   ],
   "source": [
    "# code:\n",
    "tmp = ab_clean.shape[1]\n",
    "ab_clean = ab_clean.drop(columns = ['host_neighbourhood'])\n",
    "# test:\n",
    "print('down', tmp - ab_clean.shape[1], 'column as expected')"
   ]
  },
  {
   "cell_type": "markdown",
   "metadata": {},
   "source": [
    "### Last review data type\n",
    "__define__: convert 'last_review' to a format which allows calculations on time"
   ]
  },
  {
   "cell_type": "code",
   "execution_count": 25,
   "metadata": {},
   "outputs": [
    {
     "data": {
      "text/plain": [
       "dtype('<M8[ns]')"
      ]
     },
     "execution_count": 25,
     "metadata": {},
     "output_type": "execute_result"
    }
   ],
   "source": [
    "# Code\n",
    "# inspired by https://stackoverflow.com/questions/45100262/typeerror-strptime-argument-1-must-be-string-not-float\n",
    "ab_clean['last_review'] = pd.to_datetime(ab_clean.last_review)\n",
    "# Test:\n",
    "ab_clean.last_review.dtypes"
   ]
  },
  {
   "cell_type": "markdown",
   "metadata": {},
   "source": [
    "### Scrape day\n",
    "__define__: save the days the data was scraped from Airbnb in datetime format"
   ]
  },
  {
   "cell_type": "code",
   "execution_count": 26,
   "metadata": {},
   "outputs": [
    {
     "data": {
      "text/plain": [
       "(pandas._libs.tslibs.timestamps.Timestamp,\n",
       " pandas._libs.tslibs.timestamps.Timestamp)"
      ]
     },
     "execution_count": 26,
     "metadata": {},
     "output_type": "execute_result"
    }
   ],
   "source": [
    "# Code:\n",
    "ab19_scrape_day = pd.to_datetime('2019-06-08')\n",
    "ab20_scrape_day = pd.to_datetime('2020-06-13')\n",
    "# Test:\n",
    "type(ab19_scrape_day), type(ab20_scrape_day)"
   ]
  },
  {
   "cell_type": "markdown",
   "metadata": {},
   "source": [
    "### Scrape year\n",
    "__define__: create a column to identify the year the data was collected"
   ]
  },
  {
   "cell_type": "code",
   "execution_count": 27,
   "metadata": {},
   "outputs": [
    {
     "data": {
      "text/plain": [
       "2020    24813\n",
       "2019    23808\n",
       "Name: last_scraped_year, dtype: int64"
      ]
     },
     "execution_count": 27,
     "metadata": {},
     "output_type": "execute_result"
    }
   ],
   "source": [
    "# code:\n",
    "ab_clean['last_scraped_year'] = ab_clean.last_scraped.apply(lambda x: x[0:4])\n",
    "# test:\n",
    "ab_clean.last_scraped_year.value_counts()"
   ]
  },
  {
   "cell_type": "markdown",
   "metadata": {},
   "source": [
    "### Assess and Clean for \"Detailed Review Data\" data"
   ]
  },
  {
   "cell_type": "code",
   "execution_count": 28,
   "metadata": {},
   "outputs": [
    {
     "name": "stdout",
     "output_type": "stream",
     "text": [
      "<class 'pandas.core.frame.DataFrame'>\n",
      "Int64Index: 467550 entries, 7126992 to 465199123\n",
      "Data columns (total 5 columns):\n",
      "listing_id       467550 non-null int64\n",
      "date             467550 non-null object\n",
      "reviewer_id      467550 non-null int64\n",
      "reviewer_name    467550 non-null object\n",
      "comments         467335 non-null object\n",
      "dtypes: int64(2), object(3)\n",
      "memory usage: 21.4+ MB\n"
     ]
    }
   ],
   "source": [
    "ab19_rev.info()"
   ]
  },
  {
   "cell_type": "code",
   "execution_count": 29,
   "metadata": {},
   "outputs": [
    {
     "name": "stdout",
     "output_type": "stream",
     "text": [
      "<class 'pandas.core.frame.DataFrame'>\n",
      "Int64Index: 516939 entries, 69544350 to 629450769\n",
      "Data columns (total 5 columns):\n",
      "listing_id       516939 non-null int64\n",
      "date             516939 non-null object\n",
      "reviewer_id      516939 non-null int64\n",
      "reviewer_name    516939 non-null object\n",
      "comments         516612 non-null object\n",
      "dtypes: int64(2), object(3)\n",
      "memory usage: 23.7+ MB\n"
     ]
    }
   ],
   "source": [
    "ab20_rev.info()"
   ]
  },
  {
   "cell_type": "code",
   "execution_count": 30,
   "metadata": {},
   "outputs": [
    {
     "name": "stdout",
     "output_type": "stream",
     "text": [
      "no issue with missing values in review data: no missings, and irrelevant number of missings respectively in reviews itself -> share of missings:  0.00045984386696609986 (2019), and 0.0006325698003052584 (2020)\n"
     ]
    }
   ],
   "source": [
    "print('no issue with missing values in review data: no missings, and irrelevant number of missings respectively in reviews itself -> share of missings: ', \n",
    "        (ab19_rev.comments.isnull().sum() / ab19_rev.shape[0]), '(2019), and',\n",
    "        ab20_rev.comments.isnull().sum() / ab20_rev.shape[0], '(2020)')"
   ]
  },
  {
   "cell_type": "markdown",
   "metadata": {},
   "source": [
    "### limit to time frame of interest: Number of reviews in 2020, as available yet, and same period in 2019\n",
    "__define__: We're looking at complete months. Hence we start to have stays under the Corona influence from April 2020 as the awareness of Corona came Mid-March 2020 in the area. The data provides complete months till May 2020. So we use April and May 2020 and compare the reviews to the months one year before circumventing seasonality in the data.\n",
    "\n",
    "The 2020 scrape day 13 June allowed also guests since 31 May 2020 to give their review and is thus not considered as a bias: after 14 days it's not possible to write a review ([source](https://www.airbnb.com/help/article/995/how-long-do-i-have-to-write-a-review-after-a-trip-has-ended))."
   ]
  },
  {
   "cell_type": "code",
   "execution_count": 31,
   "metadata": {},
   "outputs": [],
   "source": [
    "# Code:\n",
    "ab19_rev = ab19_rev.query(\"date > '2019-04-01' and date < '2019-05-31'\")\n",
    "ab20_rev = ab20_rev.query(\"date > '2020-04-01' and date < '2020-05-31'\")\n",
    "number_rev19_corona_period = ab19_rev.count().listing_id\n",
    "number_rev20_corona_period = ab20_rev.count().listing_id"
   ]
  },
  {
   "cell_type": "code",
   "execution_count": 32,
   "metadata": {},
   "outputs": [
    {
     "name": "stdout",
     "output_type": "stream",
     "text": [
      "the number of reviews % change April-May 2019 to 2020 is  -0.9359379943055995 \n",
      " \n",
      " and in absolute values for 2019: 37932 and for 2020: 2430\n"
     ]
    }
   ],
   "source": [
    "# Test:\n",
    "print('the number of reviews % change April-May 2019 to 2020 is ', \n",
    "        (number_rev20_corona_period / number_rev19_corona_period) - 1,\n",
    "      '\\n \\n and in absolute values for 2019:', number_rev19_corona_period, 'and for 2020:', number_rev20_corona_period\n",
    "     )"
   ]
  },
  {
   "cell_type": "markdown",
   "metadata": {},
   "source": [
    "### handling missings in reviews"
   ]
  },
  {
   "cell_type": "code",
   "execution_count": 33,
   "metadata": {},
   "outputs": [
    {
     "data": {
      "text/plain": [
       "(30, 11)"
      ]
     },
     "execution_count": 33,
     "metadata": {},
     "output_type": "execute_result"
    }
   ],
   "source": [
    "ab19_rev.comments.isnull().sum(), ab20_rev.comments.isnull().sum()"
   ]
  },
  {
   "cell_type": "markdown",
   "metadata": {},
   "source": [
    "__define__: the number of NaN reviews is 41 out of about 40,000, i.e. the rows are irrelevent hence we just drop the rows."
   ]
  },
  {
   "cell_type": "code",
   "execution_count": 34,
   "metadata": {},
   "outputs": [
    {
     "name": "stdout",
     "output_type": "stream",
     "text": [
      "after removing NA comments we have 37902 and 2419 lines left\n"
     ]
    }
   ],
   "source": [
    "# code:\n",
    "ab19_rev = ab19_rev[~(ab19_rev.comments.isna())]\n",
    "ab20_rev = ab20_rev[~(ab20_rev.comments.isna())]\n",
    "# test:\n",
    "print('after removing NA comments we have', ab19_rev.shape[0], 'and', \\\n",
    "      ab20_rev.shape[0], 'lines left')"
   ]
  },
  {
   "cell_type": "markdown",
   "metadata": {},
   "source": [
    "<a id='eda'></a>\n",
    "# Analyze, Model, and Visualize\n",
    "\n",
    "<a id='impact_demand'></a>\n",
    "## Corona impact on Airbnb demand"
   ]
  },
  {
   "cell_type": "markdown",
   "metadata": {},
   "source": [
    "Evaluating days since last review\n",
    "\n",
    "#### overall for the years"
   ]
  },
  {
   "cell_type": "code",
   "execution_count": 35,
   "metadata": {},
   "outputs": [
    {
     "name": "stdout",
     "output_type": "stream",
     "text": [
      "median days since last review is 114 (2019), and 241 (2020), i.e. a % change of 1.1140350877192984\n"
     ]
    }
   ],
   "source": [
    "last_review19 = (ab19_scrape_day - ab_clean[ab_clean.last_scraped_year == '2019']\\\n",
    "                 .last_review).median().days\n",
    "last_review20 = (ab20_scrape_day - ab_clean[ab_clean.last_scraped_year == '2020'].\\\n",
    "                 last_review).median().days\n",
    "print('median days since last review is', last_review19, '(2019), and', last_review20, '(2020), i.e. a % change of', \n",
    "      (last_review20 / last_review19) - 1)"
   ]
  },
  {
   "cell_type": "markdown",
   "metadata": {},
   "source": [
    "#### by neighborhood for the years"
   ]
  },
  {
   "cell_type": "code",
   "execution_count": 36,
   "metadata": {},
   "outputs": [],
   "source": [
    "def diff_to_scrape_day(data, year, scrape_day):\n",
    "    '''\n",
    "    INPUT:\n",
    "    data - a dataframe holding the Airbnb data with neighbourhood_group_cleansed, last_review\n",
    "    year - a string with 2019 or 2020\n",
    "    scrape_day - dataset scrape day in datetime format\n",
    "\n",
    "    OUTPUT:\n",
    "    X - dataframe with median day difference between scrape day and review per neighbourhood\n",
    "    '''\n",
    "    mean_diff_nbh = []\n",
    "    for nbh in np.unique(data.neighbourhood_group_cleansed):\n",
    "        mean_diff_nbh.append((\n",
    "            nbh,\n",
    "            year,\n",
    "            (\n",
    "            (scrape_day \n",
    "             - data[data.neighbourhood_group_cleansed == nbh].last_review).median()\n",
    "            ).days\n",
    "        ))\n",
    "    df = pd.DataFrame(mean_diff_nbh)\n",
    "    df.columns = ['neighbourhood', 'year', 'days_since_last_review']\n",
    "    return df"
   ]
  },
  {
   "cell_type": "code",
   "execution_count": 37,
   "metadata": {},
   "outputs": [],
   "source": [
    "diff19 = diff_to_scrape_day(ab_clean[ab_clean.last_scraped_year == '2019'], '2019', ab19_scrape_day)\n",
    "diff20 = diff_to_scrape_day(ab_clean[ab_clean.last_scraped_year == '2020'], '2020', ab20_scrape_day)"
   ]
  },
  {
   "cell_type": "code",
   "execution_count": 38,
   "metadata": {},
   "outputs": [
    {
     "data": {
      "image/png": "[encoded data removed]",
      "text/plain": [
       "<Figure size 432x288 with 1 Axes>"
      ]
     },
     "metadata": {
      "needs_background": "light"
     },
     "output_type": "display_data"
    }
   ],
   "source": [
    "# compare _absolute_ values of median difference in days since last review\n",
    "# sorted by highest value over years per neighbourhood\n",
    "df1 = pd.concat([diff19, diff20])\n",
    "sort_df = df1.groupby(df1.neighbourhood).sum().\\\n",
    "            sort_values('days_since_last_review', ascending = False).index\n",
    "sb.barplot(y='neighbourhood', x='days_since_last_review', data=df1, hue='year', order=sort_df);"
   ]
  },
  {
   "cell_type": "code",
   "execution_count": 39,
   "metadata": {},
   "outputs": [],
   "source": [
    "# compare _difference_ in values of median difference in days since last review\n",
    "df1 = pd.merge(left=diff19, right=diff20, on='neighbourhood')\n",
    "df1['last_review_diff'] = df1.days_since_last_review_y - df1.days_since_last_review_x"
   ]
  },
  {
   "cell_type": "code",
   "execution_count": 40,
   "metadata": {},
   "outputs": [
    {
     "data": {
      "image/png": "[encoded data removed]",
      "text/plain": [
       "<Figure size 432x288 with 1 Axes>"
      ]
     },
     "metadata": {
      "needs_background": "light"
     },
     "output_type": "display_data"
    }
   ],
   "source": [
    "sort_df = df1.sort_values(by='last_review_diff', ascending = False).neighbourhood\n",
    "base_color = sb.color_palette()[0]\n",
    "ax = sb.barplot(y='neighbourhood', x='last_review_diff', data=df1, \n",
    "                order=sort_df, color=base_color)\n",
    "ax.set_title('Days Since last Review 2020 vs. 2019', fontsize=14)\n",
    "plt.xlabel('median difference for days since last review')\n",
    "plt.ylabel('Berlin Neighborhoods');"
   ]
  },
  {
   "cell_type": "markdown",
   "metadata": {},
   "source": [
    "<a id='host_reaction'></a>\n",
    "## Host Reaction\n",
    "Looking at number of offers, price, and cancellation policy\n",
    "### Number of offers"
   ]
  },
  {
   "cell_type": "code",
   "execution_count": 41,
   "metadata": {},
   "outputs": [
    {
     "name": "stdout",
     "output_type": "stream",
     "text": [
      "0.04221270161290325\n"
     ]
    },
    {
     "data": {
      "text/plain": [
       "2020    24813\n",
       "2019    23808\n",
       "Name: last_scraped_year, dtype: int64"
      ]
     },
     "execution_count": 41,
     "metadata": {},
     "output_type": "execute_result"
    }
   ],
   "source": [
    "# overall the number of flats offered increased by 4%\n",
    "print((24813 / 23808) - 1)\n",
    "ab_clean.last_scraped_year.value_counts()"
   ]
  },
  {
   "cell_type": "code",
   "execution_count": 42,
   "metadata": {},
   "outputs": [],
   "source": [
    "df1 = pd.DataFrame(ab_clean.groupby(ab_clean.neighbourhood_group_cleansed).\\\n",
    "        last_scraped_year.value_counts().sort_index())\n",
    "df1 = pd.DataFrame((df1.last_scraped_year.unstack()['2020'] / df1.last_scraped_year.unstack()['2019'] \\\n",
    "         - 1).sort_values(ascending=False))\n",
    "df1.columns = ['change_flats_offered']\n",
    "df1 = df1.reset_index()"
   ]
  },
  {
   "cell_type": "code",
   "execution_count": 43,
   "metadata": {},
   "outputs": [
    {
     "data": {
      "image/png": "[encoded data removed]",
      "text/plain": [
       "<Figure size 432x288 with 1 Axes>"
      ]
     },
     "metadata": {
      "needs_background": "light"
     },
     "output_type": "display_data"
    }
   ],
   "source": [
    "ax = sb.barplot(y='neighbourhood_group_cleansed', x='change_flats_offered', data=df1, color=base_color);\n",
    "plt.title('Airbnb offer development 2020 vs. 2019')\n",
    "plt.xlabel('% change in Airbnb offers 2020 vs. 2019')\n",
    "plt.ylabel('Berlin Neighborhoods')\n",
    "\n",
    "# x-axis in percentage, inspired by https://stackoverflow.com/questions/31357611/format-y-axis-as-percent#31357733:\n",
    "vals = ax.get_xticks()\n",
    "ax.set_xticklabels(['{:,.0%}'.format(x) for x in vals]);"
   ]
  },
  {
   "cell_type": "markdown",
   "metadata": {},
   "source": [
    "### Price\n",
    "for right skewed price look at median as it is immune to outliers"
   ]
  },
  {
   "cell_type": "code",
   "execution_count": 44,
   "metadata": {},
   "outputs": [
    {
     "name": "stdout",
     "output_type": "stream",
     "text": [
      "0.048387096774193505\n"
     ]
    },
    {
     "data": {
      "text/plain": [
       "last_scraped_year\n",
       "2019    62.0\n",
       "2020    65.0\n",
       "Name: price, dtype: float64"
      ]
     },
     "execution_count": 44,
     "metadata": {},
     "output_type": "execute_result"
    }
   ],
   "source": [
    "tmp = ab_clean.price.groupby(ab_clean.last_scraped_year)\n",
    "#tmp.mean()\n",
    "print((tmp.median()['2020'] / tmp.median()['2019']) - 1)\n",
    "tmp.median()"
   ]
  },
  {
   "cell_type": "code",
   "execution_count": 45,
   "metadata": {},
   "outputs": [
    {
     "data": {
      "image/png": "[encoded data removed]",
      "text/plain": [
       "<Figure size 432x288 with 1 Axes>"
      ]
     },
     "metadata": {
      "needs_background": "light"
     },
     "output_type": "display_data"
    }
   ],
   "source": [
    "# Histogram for Prices in 2019 and 2020\n",
    "# shows price shift to the right\n",
    "ab_clean[ab_clean.last_scraped_year=='2020'].price.hist(bins=1000, alpha=.4, color='red');\n",
    "ab_clean[ab_clean.last_scraped_year=='2019'].price.hist(bins=1000, alpha=.9, color='blue', histtype='step');\n",
    "plt.title('Airbnb overall Price development 2020 vs. 2019')\n",
    "plt.xlabel(\"Price per Night Including Cleaning Fee\")\n",
    "plt.ylabel(\"Offers (count)\");\n",
    "\n",
    "# custom labels inspired by https://stackoverflow.com/questions/39500265/manually-add-legend-items-python-matplotlib#39500357\n",
    "red_patch = mpatches.Patch(color='red', label='2019')\n",
    "blue_patch = mpatches.Patch(color='blue', label='2020')\n",
    "plt.legend(handles=[red_patch, blue_patch])\n",
    "plt.xlim(0,160);"
   ]
  },
  {
   "cell_type": "code",
   "execution_count": 46,
   "metadata": {},
   "outputs": [
    {
     "data": {
      "image/png": "[encoded data removed]",
      "text/plain": [
       "<Figure size 432x288 with 1 Axes>"
      ]
     },
     "metadata": {
      "needs_background": "light"
     },
     "output_type": "display_data"
    }
   ],
   "source": [
    "df1 = ab_clean.groupby(['neighbourhood_group_cleansed', 'last_scraped_year']).price.median().unstack()\n",
    "df1 = pd.DataFrame((df1['2020'] / df1['2019']) - 1)\n",
    "df1.columns = ['price_difference']\n",
    "df1 = df1.reset_index().sort_values(by='price_difference', ascending = False)\n",
    "\n",
    "ax = sb.barplot(y='neighbourhood_group_cleansed', x='price_difference', data=df1, color=base_color);\n",
    "plt.title('Airbnb Price development 2020 vs. 2019')\n",
    "plt.xlabel('% change in Price')\n",
    "plt.ylabel('Berlin Neighborhoods')\n",
    "\n",
    "# x-axis in percentage, inspired by https://stackoverflow.com/questions/31357611/format-y-axis-as-percent#31357733:\n",
    "vals = ax.get_xticks()\n",
    "ax.set_xticklabels(['{:,.0%}'.format(x) for x in vals]);"
   ]
  },
  {
   "cell_type": "code",
   "execution_count": 47,
   "metadata": {},
   "outputs": [
    {
     "data": {
      "image/png": "[encoded data removed]",
      "text/plain": [
       "<Figure size 720x576 with 1 Axes>"
      ]
     },
     "metadata": {
      "needs_background": "light"
     },
     "output_type": "display_data"
    }
   ],
   "source": [
    "plt.figure(figsize=(10, 8))\n",
    "ax = sb.violinplot(y='neighbourhood_group_cleansed', x='price', hue='last_scraped_year',\n",
    "              data=ab_clean,\n",
    "             color = base_color, inner = 'quartile', bw=.04)\n",
    "ax.set_title('Price development 2020 vs. 2019', fontsize=14)\n",
    "ax.legend(loc='lower right')\n",
    "plt.xlabel('Price per Night Including Cleaning Fee')\n",
    "plt.ylabel('Berlin Neighborhoods')\n",
    "plt.xlim(0,160);"
   ]
  },
  {
   "cell_type": "markdown",
   "metadata": {},
   "source": [
    "### Cancellation Policy"
   ]
  },
  {
   "cell_type": "code",
   "execution_count": 48,
   "metadata": {},
   "outputs": [
    {
     "data": {
      "text/html": [
       "<div>\n",
       "<style scoped>\n",
       "    .dataframe tbody tr th:only-of-type {\n",
       "        vertical-align: middle;\n",
       "    }\n",
       "\n",
       "    .dataframe tbody tr th {\n",
       "        vertical-align: top;\n",
       "    }\n",
       "\n",
       "    .dataframe thead th {\n",
       "        text-align: right;\n",
       "    }\n",
       "</style>\n",
       "<table border=\"1\" class=\"dataframe\">\n",
       "  <thead>\n",
       "    <tr style=\"text-align: right;\">\n",
       "      <th></th>\n",
       "      <th>cancellation_policy</th>\n",
       "      <th>cancellation_policy_change</th>\n",
       "    </tr>\n",
       "  </thead>\n",
       "  <tbody>\n",
       "    <tr>\n",
       "      <th>5</th>\n",
       "      <td>super_strict_60</td>\n",
       "      <td>0.725000</td>\n",
       "    </tr>\n",
       "    <tr>\n",
       "      <th>0</th>\n",
       "      <td>flexible</td>\n",
       "      <td>0.074431</td>\n",
       "    </tr>\n",
       "    <tr>\n",
       "      <th>3</th>\n",
       "      <td>strict_14_with_grace_period</td>\n",
       "      <td>0.029555</td>\n",
       "    </tr>\n",
       "    <tr>\n",
       "      <th>1</th>\n",
       "      <td>moderate</td>\n",
       "      <td>0.016873</td>\n",
       "    </tr>\n",
       "    <tr>\n",
       "      <th>4</th>\n",
       "      <td>super_strict_30</td>\n",
       "      <td>-0.790323</td>\n",
       "    </tr>\n",
       "  </tbody>\n",
       "</table>\n",
       "</div>"
      ],
      "text/plain": [
       "           cancellation_policy  cancellation_policy_change\n",
       "5              super_strict_60                    0.725000\n",
       "0                     flexible                    0.074431\n",
       "3  strict_14_with_grace_period                    0.029555\n",
       "1                     moderate                    0.016873\n",
       "4              super_strict_30                   -0.790323"
      ]
     },
     "execution_count": 48,
     "metadata": {},
     "output_type": "execute_result"
    }
   ],
   "source": [
    "# number of flats with \"partly refund only when canceled at least 30 days before\": down a lot;\n",
    "# more flexible around 10%\n",
    "\n",
    "# details from Airbnb on policy:\n",
    "# https://www.airbnb.de/home/cancellation_policies#super-strict-30\n",
    "# https://www.airbnb.de/home/cancellation_policies#super-strict-60\n",
    "\n",
    "df2 = pd.DataFrame(ab_clean.groupby(ab_clean.last_scraped_year).\\\n",
    "                   cancellation_policy.value_counts())\n",
    "df2 = df2.cancellation_policy.unstack(level = 'last_scraped_year')\n",
    "df2 = pd.DataFrame((df2['2020'] / df2['2019']) - 1)\n",
    "df2.columns = ['cancellation_policy_change']\n",
    "df2 = df2.reset_index().sort_values(by='cancellation_policy_change', ascending = False)\n",
    "df2 = df2.drop(index=2) # strict only 2 in both years -> ignore\n",
    "df2"
   ]
  },
  {
   "cell_type": "code",
   "execution_count": 49,
   "metadata": {},
   "outputs": [
    {
     "data": {
      "image/png": "[encoded data removed]",
      "text/plain": [
       "<Figure size 432x288 with 1 Axes>"
      ]
     },
     "metadata": {
      "needs_background": "light"
     },
     "output_type": "display_data"
    }
   ],
   "source": [
    "ax = sb.barplot(y='cancellation_policy', x='cancellation_policy_change', data=df2, color=base_color);\n",
    "plt.title('Airbnb Host Cancellation Policy 2020 vs. 2019')\n",
    "plt.xlabel('% change Cancellation Policy')\n",
    "plt.ylabel('Berlin Neighborhoods')\n",
    "\n",
    "# x-axis in percentage, inspired by https://stackoverflow.com/questions/31357611/format-y-axis-as-percent#31357733:\n",
    "vals = ax.get_xticks()\n",
    "ax.set_xticklabels(['{:,.0%}'.format(x) for x in vals]);"
   ]
  },
  {
   "cell_type": "markdown",
   "metadata": {},
   "source": [
    "<a id='happy'></a>\n",
    "## Happyness of Travelers\n",
    "Sentiment Analysis\n",
    "\n",
    "Here we use the \"Detailed Review Data\" from Murray Cox. In the analysis above we had 2 points in time, i.e. to scrape days. However, the reviews have a timestamp."
   ]
  },
  {
   "cell_type": "code",
   "execution_count": 50,
   "metadata": {},
   "outputs": [
    {
     "name": "stdout",
     "output_type": "stream",
     "text": [
      "the scrape days of the data were for 2019: 2019-06-08 00:00:00 and for 2020: 2020-06-13 00:00:00\n"
     ]
    }
   ],
   "source": [
    "print('the scrape days of the data were for 2019:', ab19_scrape_day, 'and for 2020:', ab20_scrape_day)"
   ]
  },
  {
   "cell_type": "code",
   "execution_count": 51,
   "metadata": {},
   "outputs": [
    {
     "data": {
      "text/plain": [
       "((37902, 5), (2419, 5))"
      ]
     },
     "execution_count": 51,
     "metadata": {},
     "output_type": "execute_result"
    }
   ],
   "source": [
    "ab19_rev.shape, ab20_rev.shape"
   ]
  },
  {
   "cell_type": "code",
   "execution_count": 52,
   "metadata": {},
   "outputs": [
    {
     "name": "stdout",
     "output_type": "stream",
     "text": [
      "% change of -0.9361775104216137\n"
     ]
    }
   ],
   "source": [
    "print('% change of', (ab20_rev.shape[0] / ab19_rev.shape[0]) - 1)"
   ]
  },
  {
   "cell_type": "code",
   "execution_count": 53,
   "metadata": {},
   "outputs": [],
   "source": [
    "df4 = pd.DataFrame({ 'year': ['April/May 2019', 'April/May 2020'], \n",
    "                   'reviews': [ab19_rev.shape[0], ab20_rev.shape[0]] })"
   ]
  },
  {
   "cell_type": "code",
   "execution_count": 54,
   "metadata": {},
   "outputs": [
    {
     "data": {
      "image/png": "[encoded data removed]",
      "text/plain": [
       "<Figure size 432x288 with 1 Axes>"
      ]
     },
     "metadata": {
      "needs_background": "light"
     },
     "output_type": "display_data"
    }
   ],
   "source": [
    "ax = sb.barplot(y='reviews', x='year', data=df4, color=base_color);\n",
    "plt.title('Number of Berlin Airbnb Reviews')\n",
    "plt.xlabel('')\n",
    "plt.ylabel('Reviews (count)');"
   ]
  },
  {
   "cell_type": "code",
   "execution_count": 55,
   "metadata": {},
   "outputs": [
    {
     "data": {
      "image/png": "[encoded data removed]",
      "text/plain": [
       "<Figure size 432x288 with 1 Axes>"
      ]
     },
     "metadata": {
      "needs_background": "light"
     },
     "output_type": "display_data"
    }
   ],
   "source": [
    "tmp = ab_clean.price.groupby(ab_clean.last_scraped_year)\n",
    "df = pd.DataFrame({ 'year': ['June 2019', 'June 2020'], \n",
    "                   'prices': [tmp.median()['2019'], tmp.median()['2020']] })\n",
    "ax = sb.barplot(y='prices', x='year', data=df, color=base_color);\n",
    "plt.title('Berlin Airbnb Prices 2020 vs. 2019')\n",
    "plt.xlabel('')\n",
    "plt.ylabel('Price (EUR)')\n",
    "\n",
    "# value shown on bar inspired by https://stackoverflow.com/questions/39519609/annotate-bars-with-values-on-pandas-on-seaborn-factorplot-bar-plot#39798852\n",
    "def annotateBars(row, ax=ax): \n",
    "    for p in ax.patches:\n",
    "        ax.annotate(\"%.0f €\" % p.get_height(), (p.get_x() + p.get_width() / 2., p.get_height()),\n",
    "             ha='center', va='center', fontsize=14, color='white', rotation=0, xytext=(0, -15),\n",
    "             textcoords='offset points')\n",
    "plot = df.apply(annotateBars, ax=ax, axis=1)"
   ]
  },
  {
   "cell_type": "code",
   "execution_count": 56,
   "metadata": {},
   "outputs": [
    {
     "data": {
      "text/html": [
       "<div>\n",
       "<style scoped>\n",
       "    .dataframe tbody tr th:only-of-type {\n",
       "        vertical-align: middle;\n",
       "    }\n",
       "\n",
       "    .dataframe tbody tr th {\n",
       "        vertical-align: top;\n",
       "    }\n",
       "\n",
       "    .dataframe thead th {\n",
       "        text-align: right;\n",
       "    }\n",
       "</style>\n",
       "<table border=\"1\" class=\"dataframe\">\n",
       "  <thead>\n",
       "    <tr style=\"text-align: right;\">\n",
       "      <th></th>\n",
       "      <th>listing_id</th>\n",
       "      <th>date</th>\n",
       "      <th>reviewer_id</th>\n",
       "      <th>reviewer_name</th>\n",
       "      <th>comments</th>\n",
       "    </tr>\n",
       "    <tr>\n",
       "      <th>id</th>\n",
       "      <th></th>\n",
       "      <th></th>\n",
       "      <th></th>\n",
       "      <th></th>\n",
       "      <th></th>\n",
       "    </tr>\n",
       "  </thead>\n",
       "  <tbody>\n",
       "    <tr>\n",
       "      <th>434592346</th>\n",
       "      <td>2015</td>\n",
       "      <td>2019-04-08</td>\n",
       "      <td>56639578</td>\n",
       "      <td>Jane</td>\n",
       "      <td>Great location within walking distance of the ...</td>\n",
       "    </tr>\n",
       "    <tr>\n",
       "      <th>440838489</th>\n",
       "      <td>2695</td>\n",
       "      <td>2019-04-21</td>\n",
       "      <td>14703261</td>\n",
       "      <td>Alessandra</td>\n",
       "      <td>Michael is kind host and our stay was very ple...</td>\n",
       "    </tr>\n",
       "  </tbody>\n",
       "</table>\n",
       "</div>"
      ],
      "text/plain": [
       "           listing_id        date  reviewer_id reviewer_name  \\\n",
       "id                                                             \n",
       "434592346        2015  2019-04-08     56639578          Jane   \n",
       "440838489        2695  2019-04-21     14703261    Alessandra   \n",
       "\n",
       "                                                    comments  \n",
       "id                                                            \n",
       "434592346  Great location within walking distance of the ...  \n",
       "440838489  Michael is kind host and our stay was very ple...  "
      ]
     },
     "execution_count": 56,
     "metadata": {},
     "output_type": "execute_result"
    }
   ],
   "source": [
    "ab19_rev.head(2)"
   ]
  },
  {
   "cell_type": "markdown",
   "metadata": {},
   "source": [
    "### find sentiment for April to May in 2019 vs. 2020\n",
    "We look at the reviews in April and May 2020 and the same months one year before. Please refer to the discussion above under \"assess and clean\" with the headline \"limit to time frame of interest: Number of reviews in 2020, as available yet, and same period in 2019\"."
   ]
  },
  {
   "cell_type": "code",
   "execution_count": 57,
   "metadata": {},
   "outputs": [],
   "source": [
    "# inspired by https://medium.com/@b.terryjack/nlp-pre-trained-sentiment-analysis-1eb52a9d742c\n",
    "sid = SentimentIntensityAnalyzer()\n",
    "\n",
    "ab20_rev_senti = ab20_rev['comments'].apply(sid.polarity_scores)"
   ]
  },
  {
   "cell_type": "code",
   "execution_count": 58,
   "metadata": {},
   "outputs": [
    {
     "data": {
      "text/plain": [
       "id\n",
       "621648857    {'neg': 0.0, 'neu': 0.441, 'pos': 0.559, 'comp...\n",
       "626407441    {'neg': 0.0, 'neu': 0.668, 'pos': 0.332, 'comp...\n",
       "Name: comments, dtype: object"
      ]
     },
     "execution_count": 58,
     "metadata": {},
     "output_type": "execute_result"
    }
   ],
   "source": [
    "ab20_rev_senti.head(2)"
   ]
  },
  {
   "cell_type": "markdown",
   "metadata": {},
   "source": [
    "#### Filter non-English comments\n",
    "The text analysis is optimized for English language. One might try to translate all reviews to English first or to identify the language and apply sentiment analysis suited for multiple languages.\n",
    "\n",
    "What we do here: try to filter out reviews which cannot be interpreted well by the algorithm.\n",
    "\n",
    "To filter English: we observe that the English optimized sentiment analysis yields a high __share of neutral words__ for a review when the review is not in English.\n",
    "\n",
    "##### Limiting the neutral word share to below 95%\n",
    "We find for the filtered reviews that in the sample below 9 out of 10 reviews are in fact in English.<br>\n",
    "$\\rightarrow$ this is reassuring and we continue"
   ]
  },
  {
   "cell_type": "code",
   "execution_count": 59,
   "metadata": {},
   "outputs": [
    {
     "name": "stdout",
     "output_type": "stream",
     "text": [
      "Limiting the neutral word share to below 95% we lose 542 of 2419 observations i.e. use 1877 observations.\n"
     ]
    },
    {
     "data": {
      "text/plain": [
       "id\n",
       "621648857               Amazing hospitality and communication.\n",
       "626407441    The place is in an exceptional location, it is...\n",
       "623637430    Awesome place in a great neighborhood! I reall...\n",
       "623401243    Excellent location close to everything you cou...\n",
       "622509987    The apartment is very well located, very close...\n",
       "626097967    Bernd and Katja are amazing hosts. The communi...\n",
       "625478639                 Everything was TIP TOP! Case closed!\n",
       "626748481    We had an amazing  2 weeks in Berlin and in th...\n",
       "622565885    88 Treppenstufen, die sich lohnen! Carol hat e...\n",
       "625887286    Great Location, really clean and Good Communic...\n",
       "Name: comments, dtype: object"
      ]
     },
     "execution_count": 59,
     "metadata": {},
     "output_type": "execute_result"
    }
   ],
   "source": [
    "tmp = ab20_rev[ab20_rev_senti.apply(lambda x: x['neu']) < .95]\n",
    "print('Limiting the neutral word share to below 95% we lose', ab20_rev.shape[0] - tmp.shape[0], 'of', ab20_rev.shape[0], 'observations i.e. use', tmp.shape[0], 'observations.')\n",
    "tmp.comments[0:10]"
   ]
  },
  {
   "cell_type": "markdown",
   "metadata": {},
   "source": [
    "Another point for this approach: There are reviews which are not in English and are not identified by the neutral word share -- however, the words are correctly analyzed in terms of sentiment.\n",
    "\n",
    "Example: the German comment below contains \"super\", is positive and is identified as positive by the algorithm."
   ]
  },
  {
   "cell_type": "code",
   "execution_count": 60,
   "metadata": {},
   "outputs": [
    {
     "data": {
      "text/plain": [
       "'Alles super. :-)'"
      ]
     },
     "execution_count": 60,
     "metadata": {},
     "output_type": "execute_result"
    }
   ],
   "source": [
    "ab20_rev.loc[623416557].comments"
   ]
  },
  {
   "cell_type": "code",
   "execution_count": 61,
   "metadata": {},
   "outputs": [
    {
     "data": {
      "text/plain": [
       "{'neg': 0.0, 'neu': 0.139, 'pos': 0.861, 'compound': 0.7351}"
      ]
     },
     "execution_count": 61,
     "metadata": {},
     "output_type": "execute_result"
    }
   ],
   "source": [
    "ab20_rev_senti[623416557]"
   ]
  },
  {
   "cell_type": "markdown",
   "metadata": {},
   "source": [
    "##### compound value \n",
    "The compound value gives the sentiment of the review. A compound value of \\>0.05 can be seen as positive, source: https://github.com/cjhutto/vaderSentiment#about-the-scoring"
   ]
  },
  {
   "cell_type": "code",
   "execution_count": 62,
   "metadata": {},
   "outputs": [
    {
     "name": "stdout",
     "output_type": "stream",
     "text": [
      "1218 from 1877 observations these are identified as positive\n"
     ]
    }
   ],
   "source": [
    "# share of positive reviews\n",
    "df = ab20_rev[(ab20_rev_senti.apply(lambda x: (x['neu']) < .95 and x['compound']) > 0.05)]\n",
    "print(df.shape[0], 'from', tmp.shape[0], 'observations these are identified as positive')"
   ]
  },
  {
   "cell_type": "code",
   "execution_count": 63,
   "metadata": {},
   "outputs": [],
   "source": [
    "# Test: -> filtered as expected\n",
    "# ab20_rev_senti.loc[df.index].apply(lambda x: x['neu'])\n",
    "# ab20_rev_senti.loc[df.index].apply(lambda x: x['compound'])"
   ]
  },
  {
   "cell_type": "code",
   "execution_count": 64,
   "metadata": {},
   "outputs": [],
   "source": [
    "# write a function to evaluate programmatically\n",
    "def sentiment_share(df):\n",
    "    '''\n",
    "    The function applies sentiment analysis on comments with netral <.95 and compound >.05.\n",
    "    Requirements: Initialized sid = SentimentIntensityAnalyzer().\n",
    "    \n",
    "    INPUT:\n",
    "    df = data frame with reviews in column 'comments'\n",
    "    OUTPUT:\n",
    "    number of positive reviews, number of evaluated reviews\n",
    "    '''\n",
    "    df_senti = df['comments'].apply(sid.polarity_scores)\n",
    "    relevant = df[df_senti.apply(lambda x: x['neu']) < .95]\n",
    "    relevant_pos = df[(df_senti.apply(lambda x: (x['neu']) < .95 and x['compound']) > 0.05)]\n",
    "    return relevant_pos.shape[0], relevant.shape[0]"
   ]
  },
  {
   "cell_type": "code",
   "execution_count": 65,
   "metadata": {},
   "outputs": [],
   "source": [
    "# share of positive reviews in April to May 2019\n",
    "res = sentiment_share(ab19_rev)\n",
    "rev_pos19 = res[0] / res[1]"
   ]
  },
  {
   "cell_type": "code",
   "execution_count": 66,
   "metadata": {},
   "outputs": [],
   "source": [
    "# share of positive reviews in April to May 2020\n",
    "res = sentiment_share(ab20_rev)\n",
    "rev_pos20 = res[0] / res[1]"
   ]
  },
  {
   "cell_type": "code",
   "execution_count": 67,
   "metadata": {},
   "outputs": [
    {
     "name": "stdout",
     "output_type": "stream",
     "text": [
      "share of positive reviews is 0.8482754207461445 (2019), and 0.648907831646244 (2020), i.e. a % change of -0.23502695495354142\n"
     ]
    }
   ],
   "source": [
    "print('share of positive reviews is', rev_pos19, '(2019), and', rev_pos20, '(2020), i.e. a % change of', \n",
    "     (rev_pos20 / rev_pos19) - 1)"
   ]
  },
  {
   "cell_type": "code",
   "execution_count": 68,
   "metadata": {},
   "outputs": [
    {
     "data": {
      "image/png": "[encoded data removed]",
      "text/plain": [
       "<Figure size 432x288 with 1 Axes>"
      ]
     },
     "metadata": {
      "needs_background": "light"
     },
     "output_type": "display_data"
    }
   ],
   "source": [
    "df = pd.DataFrame({'year': ['April/May 2019', 'April/May 2020'], \n",
    "                   'values_': [rev_pos19, rev_pos20]})\n",
    "\n",
    "ax = sb.barplot(y='values_', x='year', data=df, color=base_color);\n",
    "plt.title('Positive review share 2020 vs. 2019')\n",
    "plt.xlabel('')\n",
    "plt.ylabel('% of Reviews')\n",
    "plt.ylim(0,1)\n",
    "vals = ax.get_yticks()\n",
    "ax.set_yticklabels(['{:,.0%}'.format(x) for x in vals]);\n",
    "def annotateBars(row, ax=ax): \n",
    "    for p in ax.patches:\n",
    "        ax.annotate('{:.0f}%'.format(100 * p.get_height()), (p.get_x() + p.get_width() / 2., p.get_height()),\n",
    "             ha='center', va='center', fontsize=14, color='white', rotation=0, xytext=(0, -15),\n",
    "             textcoords='offset points')\n",
    "plot = df.apply(annotateBars, ax=ax, axis=1)"
   ]
  }
 ],
 "metadata": {
  "kernelspec": {
   "display_name": "Python 3",
   "language": "python",
   "name": "python3"
  },
  "language_info": {
   "codemirror_mode": {
    "name": "ipython",
    "version": 3
   },
   "file_extension": ".py",
   "mimetype": "text/x-python",
   "name": "python",
   "nbconvert_exporter": "python",
   "pygments_lexer": "ipython3",
   "version": "3.8.5"
  }
 },
 "nbformat": 4,
 "nbformat_minor": 2
}
